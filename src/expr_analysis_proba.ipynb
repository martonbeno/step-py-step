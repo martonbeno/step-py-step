{
 "cells": [
  {
   "cell_type": "code",
   "execution_count": 37,
   "id": "compact-algebra",
   "metadata": {},
   "outputs": [],
   "source": [
    "import ast"
   ]
  },
  {
   "cell_type": "code",
   "execution_count": 47,
   "id": "incredible-fifteen",
   "metadata": {},
   "outputs": [],
   "source": [
    "import re, copy\n",
    "def get_type(node):\n",
    "    return node.__class__.__name__\n",
    "    return re.sub(r\"^<class 'ast\\.(.+)'>$\", r'\\1', str(type(node)))\n",
    "def eval_binop(node, variables):\n",
    "    if get_type(node) == \"Constant\":\n",
    "        return node\n",
    "\n",
    "    if get_type(node) == \"Name\":\n",
    "        #return variables[node.id]\n",
    "        #ret = ast.Constant(variables[node.id])\n",
    "        ret = ast.Constant(variables[node.id])\n",
    "        return ret\n",
    "    \n",
    "    elif get_type(node) == \"UnaryOp\":\n",
    "        cp = copy.deepcopy(node)\n",
    "        cp.operand = eval_binop(cp.operand, variables)\n",
    "        \n",
    "        expr = ast.Expression(body=cp)\n",
    "        ast.fix_missing_locations(expr)\n",
    "        exe = compile(expr, filename=\"\", mode=\"eval\")\n",
    "        return ast.Constant(eval(exe))\n",
    "    \n",
    "    elif get_type(node) in (\"BinOp\"):\n",
    "        cp = copy.deepcopy(node)\n",
    "        cp.left = eval_binop(cp.left, variables)\n",
    "        cp.right = eval_binop(cp.right, variables)\n",
    "        \n",
    "        expr = ast.Expression(body=cp)\n",
    "        ast.fix_missing_locations(expr)\n",
    "        exe = compile(expr, filename=\"\", mode=\"eval\")\n",
    "        return ast.Constant(eval(exe))\n",
    "    \n",
    "    elif get_type(node) in (\"BoolOp\"):\n",
    "        cp = copy.deepcopy(node)\n",
    "        for i in range(len(cp.values)):\n",
    "            cp.values[i] = eval_binop(cp.values[i], variables)\n",
    "        expr = ast.Expression(body=cp)\n",
    "        ast.fix_missing_locations(expr)\n",
    "        exe = compile(expr, filename=\"\", mode=\"eval\")\n",
    "        return ast.Constant(eval(exe))\n",
    "    \n",
    "    elif get_type(node) in (\"Compare\"):\n",
    "        cp = copy.deepcopy(node)\n",
    "        cp.left = eval_binop(cp.left, variables)\n",
    "        for i in range(len(cp.comparators)):\n",
    "            cp.comparators[i] = eval_binop(cp.comparators[i], variables)\n",
    "        expr = ast.Expression(body=cp)\n",
    "        ast.fix_missing_locations(expr)\n",
    "        exe = compile(expr, filename=\"\", mode=\"eval\")\n",
    "        return ast.Constant(eval(exe))"
   ]
  },
  {
   "cell_type": "code",
   "execution_count": 41,
   "id": "excellent-master",
   "metadata": {},
   "outputs": [
    {
     "name": "stdout",
     "output_type": "stream",
     "text": [
      "a = 3\n",
      "\n",
      "b = True or False\n",
      "c= None\n",
      "<_ast.Assign object at 0x7f1350730820>\n",
      "<_ast.Assign object at 0x7f1350730880>\n",
      "<_ast.Assign object at 0x7f1350730400>\n"
     ]
    }
   ],
   "source": [
    "with open(\"./mysite/tmp.py\", 'r', encoding='utf-8') as f:\n",
    "    kod = f.read()\n",
    "\n",
    "print(kod)\n",
    "node = ast.parse(kod)\n",
    "for x in ast.iter_child_nodes(node):\n",
    "    print(x)"
   ]
  },
  {
   "cell_type": "code",
   "execution_count": 42,
   "id": "balanced-sunrise",
   "metadata": {},
   "outputs": [
    {
     "name": "stdout",
     "output_type": "stream",
     "text": [
      "<_ast.BoolOp object at 0x7f13507304c0> 3\n"
     ]
    }
   ],
   "source": [
    "def get_exprs(node):\n",
    "    ret = []\n",
    "    #if isinstance(node, ast.expr): #TODO ast.expr\n",
    "    if node.__class__ in [ast.BinOp, ast.BoolOp, ast.Compare, ast.UnaryOp]:\n",
    "    #if isinstance(node, ast.BinOp) or isinstance(node, ast.BoolOp) or isinstance(node, ast.Compare) or isinstance(node, ast.UnaryOp):\n",
    "        ret.append(node)\n",
    "    else:\n",
    "        for child in ast.iter_child_nodes(node):\n",
    "            ret = ret + get_exprs(child)\n",
    "    return ret\n",
    "exprs = get_exprs(node)\n",
    "for e in exprs:\n",
    "    print(e, e.lineno)"
   ]
  },
  {
   "cell_type": "code",
   "execution_count": 43,
   "id": "imported-breach",
   "metadata": {},
   "outputs": [
    {
     "data": {
      "text/plain": [
       "\"\\nret = eval_binop(bo, {'z':99})\\nast.dump(ret)\\n\\ntree = node2tree(bo, kod.split('\\n'), {'z':99})\\n\\ntree\\n\""
      ]
     },
     "execution_count": 43,
     "metadata": {},
     "output_type": "execute_result"
    }
   ],
   "source": [
    "\n",
    "bo = exprs[0]\n",
    "tree = node2tree(bo, kod.split('\\n'), {'z':99})\n",
    "'''\n",
    "print(ast.dump(bo.right))\n",
    "print(bo.right.__dict__)\n",
    "'''\n",
    "'''\n",
    "ret = eval_binop(bo, {'z':99})\n",
    "ast.dump(ret)\n",
    "\n",
    "tree = node2tree(bo, kod.split('\\n'), {'z':99})\n",
    "\n",
    "tree\n",
    "'''"
   ]
  },
  {
   "cell_type": "code",
   "execution_count": 49,
   "id": "20b3bbc7",
   "metadata": {},
   "outputs": [
    {
     "name": "stdout",
     "output_type": "stream",
     "text": [
      "ez a type BoolOp\n",
      "ez a type Or\n",
      "ez a type Constant\n",
      "ez a type Constant\n"
     ]
    },
    {
     "data": {
      "text/plain": [
       "{'type': 'BoolOp',\n",
       " 'from_line': 2,\n",
       " 'to_line': 2,\n",
       " 'from_char': 4,\n",
       " 'to_char': 16,\n",
       " 'code': 'True or False',\n",
       " 'eval': True,\n",
       " 'children': [{'type': 'Or', 'eval': None, 'children': []},\n",
       "  {'type': 'Constant',\n",
       "   'from_line': 2,\n",
       "   'to_line': 2,\n",
       "   'from_char': 4,\n",
       "   'to_char': 7,\n",
       "   'code': 'True',\n",
       "   'eval': True,\n",
       "   'children': []},\n",
       "  {'type': 'Constant',\n",
       "   'from_line': 2,\n",
       "   'to_line': 2,\n",
       "   'from_char': 12,\n",
       "   'to_char': 16,\n",
       "   'code': 'False',\n",
       "   'eval': False,\n",
       "   'children': []}]}"
      ]
     },
     "execution_count": 49,
     "metadata": {},
     "output_type": "execute_result"
    }
   ],
   "source": [
    "tree = node2tree(bo, kod.split('\\n'), {'z':99})\n",
    "tree"
   ]
  },
  {
   "cell_type": "code",
   "execution_count": 50,
   "id": "armed-processing",
   "metadata": {},
   "outputs": [
    {
     "name": "stdout",
     "output_type": "stream",
     "text": [
      "True or False\n",
      "True\n"
     ]
    }
   ],
   "source": [
    "\n",
    "def tree2seq(node, start=True):\n",
    "    #ret = []\n",
    "    if start:\n",
    "        #deleting duplicates\n",
    "        lst = tree2seq(node, False)\n",
    "        ret = [lst[0]]\n",
    "        for x in lst[1:]:\n",
    "            if x != ret[-1]:\n",
    "                ret.append(x)\n",
    "        return ret\n",
    "    \n",
    "    if node['type'] in (\"Constant\"):\n",
    "        return [node['code']]\n",
    "    elif node['type'] in (\"Name\", \"UnaryOp\"):\n",
    "        return [node['code'], str(node['eval'])]\n",
    "    elif node['type'] in (\"BinOp\", \"BoolOp\", \"Compare\"):\n",
    "        \n",
    "        if node['type'] in (\"BinOp\", \"Compare\"):\n",
    "            left_child = node['children'][0]\n",
    "            right_child = node['children'][2]\n",
    "        elif node['type'] == \"BoolOp\":\n",
    "            left_child = node['children'][1]\n",
    "            right_child = node['children'][2]\n",
    "        \n",
    "        left_from = left_child['from_char'] - node['from_char']\n",
    "        left_to = left_from + len(left_child['code'])\n",
    "        right_from = right_child['from_char'] - node['from_char']\n",
    "        right_to = right_from + len(right_child['code'])\n",
    "           \n",
    "        \n",
    "        first_part = node['code'][:left_from]\n",
    "        middle_part = node['code'][left_to:right_from]\n",
    "        last_part = node['code'][right_to:]\n",
    "        \n",
    "        \n",
    "        \n",
    "        ret = [node['code']]\n",
    "        \n",
    "        left_seq = tree2seq(left_child, False)\n",
    "        #print(left_seq)\n",
    "        for left_step in left_seq:\n",
    "            sb = first_part\n",
    "            sb += left_step\n",
    "            sb += middle_part\n",
    "            sb += right_child['code']\n",
    "            sb += last_part\n",
    "            ret.append(sb)\n",
    "            \n",
    "        right_seq = tree2seq(right_child, False)\n",
    "        for right_step in right_seq:\n",
    "            sb = first_part\n",
    "            sb += left_seq[-1]\n",
    "            sb += middle_part\n",
    "            sb += right_step\n",
    "            sb += last_part\n",
    "            ret.append(sb)\n",
    "        \n",
    "        ret.append(str(node['eval']))\n",
    "        \n",
    "        return ret\n",
    "    \n",
    "seq = tree2seq(tree)\n",
    "for x in seq:\n",
    "    print(x)\n",
    "#print(tree)"
   ]
  },
  {
   "cell_type": "code",
   "execution_count": 48,
   "id": "orange-kernel",
   "metadata": {},
   "outputs": [],
   "source": [
    "def node2tree(node, kod_mtx, variables):\n",
    "\td = dict()\n",
    "\td['type'] = get_type(node)\n",
    "\tprint(\"ez a type\", d['type'])\n",
    "\t\n",
    "\t# if d['type'] not in ['Module', 'Store', 'Add', 'Mult', 'Div']:\n",
    "\tif 'lineno' in node.__dict__:\n",
    "\t\t\n",
    "\t\td['from_line'] = node.lineno-1\n",
    "\t\td['to_line'] = node.end_lineno-1\n",
    "\t\td['from_char'] = node.col_offset\n",
    "\t\td['to_char'] = node.end_col_offset-1\n",
    "\t\t#ha egy sorban van az egész node\n",
    "\t\tif node.lineno == node.end_lineno:\n",
    "\t\t\td['code'] = kod_mtx[node.lineno-1][node.col_offset:node.end_col_offset]\n",
    "\t\t#ha két sorban van az egész node\n",
    "\t\telif node.lineno + 1 == node.end_lineno:\n",
    "\t\t\td['code'] = kod_mtx[node.lineno-1][node.col_offset:]\n",
    "\t\t\td['code'] += kod_mtx[node.end_lineno-1][:node.end_col_offset]\n",
    "\t\t#ha több, mint két sorban van a node\n",
    "\t\telif node.lineno + 1 < node.end_lineno:\n",
    "\t\t\td['code'] = kod_mtx[node.lineno-1][node.col_offset:]\n",
    "\t\t\tfor i in range(node.lineno, node.end_lineno-1):\n",
    "\t\t\t\td['code'] += kod_mtx[i]\n",
    "\t\t\td['code'] += kod_mtx[node.end_lineno-1][:node.end_col_offset]\n",
    "\t\telse:\n",
    "\t\t\traise Exception(\"baj a kód kiolvasással\")\n",
    "\t\n",
    "\tif d['type'] in (\"BinOp\", \"BoolOp\", \"Compare\", \"UnaryOp\"):\n",
    "\t\td['eval'] = eval_binop(node, variables).value\n",
    "\telif d['type'] == \"Name\":\n",
    "\t\t#d['eval'] = eval_binop(variables[node.id], variables).value\n",
    "\t\td['eval'] = eval_binop(node, variables).value        \n",
    "\telif d['type'] == \"Constant\":\n",
    "\t\td['eval'] = node.value\n",
    "\telse:\n",
    "\t\td['eval'] = None\n",
    "\t\n",
    "\tif d['type'] == \"Assign\":\n",
    "\t\ttargets = node.targets\n",
    "\t\tt = targets[0].id\n",
    "\t\tvariables[t] = eval_binop(node.value)\n",
    "\t\tprint(variables)\n",
    "\t\t\n",
    "\t\n",
    "\td['children'] = [node2tree(child, kod_mtx, variables) for child in ast.iter_child_nodes(node)]\n",
    "\treturn d"
   ]
  },
  {
   "cell_type": "code",
   "execution_count": 57,
   "id": "bronze-bangkok",
   "metadata": {},
   "outputs": [],
   "source": [
    "def to_html(text):\n",
    "\treturn text.replace('\\n', ';').replace('\\t', '\t')\n",
    "\n",
    "def to_treant(node):\n",
    "\tret = dict()\n",
    "\tret['text'] = {'name': node['type']}\n",
    "\tif 'eval' in node:\n",
    "\t\tret['text']['title'] = node['eval'] if node['eval'] else ''\n",
    "\tif 'code' in node:\n",
    "\t\tret['text']['desc'] = to_html(node['code'])\n",
    "\tret['children'] = [to_treant(child) for child in node['children']]\n",
    "\treturn ret"
   ]
  },
  {
   "cell_type": "code",
   "execution_count": 59,
   "id": "guided-store",
   "metadata": {},
   "outputs": [
    {
     "data": {
      "text/plain": [
       "{'text': {'name': 'BoolOp', 'title': '', 'desc': 'not True or 2<4 and z == 2'},\n",
       " 'children': [{'text': {'name': 'Or', 'title': ''}, 'children': []},\n",
       "  {'text': {'name': 'UnaryOp', 'title': '', 'desc': 'not True'},\n",
       "   'children': [{'text': {'name': 'Not', 'title': ''}, 'children': []},\n",
       "    {'text': {'name': 'Constant', 'title': True, 'desc': 'True'},\n",
       "     'children': []}]},\n",
       "  {'text': {'name': 'BoolOp', 'title': '', 'desc': '2<4 and z == 2'},\n",
       "   'children': [{'text': {'name': 'And', 'title': ''}, 'children': []},\n",
       "    {'text': {'name': 'Compare', 'title': True, 'desc': '2<4'},\n",
       "     'children': [{'text': {'name': 'Constant', 'title': 2, 'desc': '2'},\n",
       "       'children': []},\n",
       "      {'text': {'name': 'Lt', 'title': ''}, 'children': []},\n",
       "      {'text': {'name': 'Constant', 'title': 4, 'desc': '4'},\n",
       "       'children': []}]},\n",
       "    {'text': {'name': 'Compare', 'title': '', 'desc': 'z == 2'},\n",
       "     'children': [{'text': {'name': 'Name', 'title': 99, 'desc': 'z'},\n",
       "       'children': [{'text': {'name': 'Load', 'title': ''}, 'children': []}]},\n",
       "      {'text': {'name': 'Eq', 'title': ''}, 'children': []},\n",
       "      {'text': {'name': 'Constant', 'title': 2, 'desc': '2'},\n",
       "       'children': []}]}]}]}"
      ]
     },
     "execution_count": 59,
     "metadata": {},
     "output_type": "execute_result"
    }
   ],
   "source": [
    "to_treant(tree)"
   ]
  }
 ],
 "metadata": {
  "kernelspec": {
   "display_name": "Python 3",
   "language": "python",
   "name": "python3"
  },
  "language_info": {
   "codemirror_mode": {
    "name": "ipython",
    "version": 3
   },
   "file_extension": ".py",
   "mimetype": "text/x-python",
   "name": "python",
   "nbconvert_exporter": "python",
   "pygments_lexer": "ipython3",
   "version": "3.8.5"
  }
 },
 "nbformat": 4,
 "nbformat_minor": 5
}
